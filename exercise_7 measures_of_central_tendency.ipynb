{
 "cells": [
  {
   "cell_type": "markdown",
   "metadata": {},
   "source": [
    "## Measures of Central Tendency"
   ]
  },
  {
   "cell_type": "raw",
   "metadata": {},
   "source": [
    "These are defined by three statisitcs/quantities namely mean, median, and mode"
   ]
  },
  {
   "cell_type": "markdown",
   "metadata": {},
   "source": [
    "Here is a simple video to explain you the concepts:\n",
    "https://www.youtube.com/watch?v=GrynkZB3E7M"
   ]
  },
  {
   "cell_type": "markdown",
   "metadata": {},
   "source": [
    "### Mean"
   ]
  },
  {
   "cell_type": "raw",
   "metadata": {},
   "source": [
    "The mean, or average, of the data is the sum of all of the values of all of the datapoints divided by the total number of datapoints. It is important to note that it is sensitive to outliers, or values that are very far from the majority of other values in the data. This means that the mean will show a relatively large fluctuation when outlying points are added or removed from the dataset"
   ]
  },
  {
   "cell_type": "code",
   "execution_count": null,
   "metadata": {},
   "outputs": [],
   "source": []
  },
  {
   "cell_type": "raw",
   "metadata": {},
   "source": [
    "To do this with python, we will work with 'statistics' library. \n",
    "statistics is a very powerful library that provides us with many predefined mathematical functions to manipulate data. We will talk about the statistics library in more detail when we will deep dive in data analysis in the bootcamp. \n",
    "\n",
    "Here is a link to the documentation of this library for more details. \n",
    "[https://docs.python.org/3/library/statistics.html]"
   ]
  },
  {
   "cell_type": "code",
   "execution_count": 21,
   "metadata": {},
   "outputs": [],
   "source": [
    "import statistics as stats # `as` is a keyword that is used create an alias `stats` for the statistics library "
   ]
  },
  {
   "cell_type": "raw",
   "metadata": {},
   "source": [
    "Why do we need an alias:\n",
    "\n",
    "If we have to use any predefined function from a library, we do it using a dot `.` operator. For eg\n",
    "statistics.mean(<argument>)     # To find the mean of some data points \n",
    "statistics.median(<argument>)   # To find the median of some data points \n",
    "\n",
    "Instead of using the complete name for the library, most coders prefer using a shorter alias. For eg. `stats` for statistics library, `pd` for pandas library, `np` for numpy library. We will discuss these libraries later  \n",
    "So now this alias can be used as a shorthand for the complete name of the library\n",
    "\n",
    "stats.mean(<argument>)\n",
    "stats.median(<argument>)\n",
    "\n"
   ]
  },
  {
   "cell_type": "code",
   "execution_count": 8,
   "metadata": {},
   "outputs": [],
   "source": [
    "# Given the following data (we will use a list here) :\n",
    "student_grades = [79, 87, 99, 96, 88, 79, 75, 68, 90, 91, 67]  # Here are the grades of 11 students in a class "
   ]
  },
  {
   "cell_type": "code",
   "execution_count": 22,
   "metadata": {},
   "outputs": [
    {
     "data": {
      "text/plain": [
       "85.2"
      ]
     },
     "execution_count": 22,
     "metadata": {},
     "output_type": "execute_result"
    }
   ],
   "source": [
    "stats.mean(student_grades)"
   ]
  },
  {
   "cell_type": "code",
   "execution_count": null,
   "metadata": {},
   "outputs": [],
   "source": []
  },
  {
   "cell_type": "markdown",
   "metadata": {},
   "source": [
    "### Median "
   ]
  },
  {
   "cell_type": "raw",
   "metadata": {},
   "source": [
    "The median is the middle number when the data is sorted into an ordered list. If there is an even number of datapoints, the median is the average of the middle two values. Unlike the mean, the inclusion of outliers does not have a very big impact on the median: even if the outlier is very large, if the rest of the data are more similarly distributed, adding one outlier to the data will only move the median slightly to one side of its previous position in the center of the data"
   ]
  },
  {
   "cell_type": "code",
   "execution_count": 10,
   "metadata": {},
   "outputs": [],
   "source": [
    "student_grades = [79, 87, 99, 96, 88, 79, 75, 68, 90, 91, 67]  # Here are the grades of 11 students in a class "
   ]
  },
  {
   "cell_type": "raw",
   "metadata": {},
   "source": [
    "How is the median calculated? A simple pseudocode.\n",
    "\n",
    "Arrange the data points in an ascending order\n",
    "\n",
    "First we look at the number of data points that we have. We can do it using the length function for lists \n",
    "\n",
    "If the number of data points is odd\n",
    "    Then median is (N+1)/2 th term is the median\n",
    "\n",
    "If the number of data points is even\n",
    "    Median is the arithematic mean of (N/2)th term and (N/2 + 1)th term"
   ]
  },
  {
   "cell_type": "code",
   "execution_count": null,
   "metadata": {},
   "outputs": [],
   "source": []
  },
  {
   "cell_type": "code",
   "execution_count": 1,
   "metadata": {},
   "outputs": [
    {
     "data": {
      "text/plain": [
       "array([67, 68, 75, 79, 79, 87, 88, 90, 91, 96, 99])"
      ]
     },
     "execution_count": 1,
     "metadata": {},
     "output_type": "execute_result"
    }
   ],
   "source": [
    "student_grades = [79, 87, 99, 96, 88, 79, 75, 68, 90, 91, 67]\n",
    "import numpy as np\n",
    "np.sort(student_grades)  # This is a function we can use to sort the data in ascending order"
   ]
  },
  {
   "cell_type": "code",
   "execution_count": 14,
   "metadata": {},
   "outputs": [
    {
     "data": {
      "text/plain": [
       "11"
      ]
     },
     "execution_count": 14,
     "metadata": {},
     "output_type": "execute_result"
    }
   ],
   "source": [
    "len(student_grades) # Number of data points in the list. "
   ]
  },
  {
   "cell_type": "code",
   "execution_count": null,
   "metadata": {},
   "outputs": [],
   "source": [
    "# It should be the sixth term in the list. Note that `N` in the formula above for finding the mean \n",
    "# is a mathematical notation which does not follow zero based indexing as python"
   ]
  },
  {
   "cell_type": "code",
   "execution_count": 24,
   "metadata": {},
   "outputs": [
    {
     "data": {
      "text/plain": [
       "87.5"
      ]
     },
     "execution_count": 24,
     "metadata": {},
     "output_type": "execute_result"
    }
   ],
   "source": [
    "stats.median(student_grades)"
   ]
  },
  {
   "cell_type": "code",
   "execution_count": null,
   "metadata": {},
   "outputs": [],
   "source": []
  },
  {
   "cell_type": "code",
   "execution_count": 16,
   "metadata": {},
   "outputs": [],
   "source": [
    "# If the data had an even number of elements as shown below:\n",
    "\n",
    "student_grades = [79, 87, 99, 96, 88, 79, 75, 68, 90, 91] "
   ]
  },
  {
   "cell_type": "code",
   "execution_count": 17,
   "metadata": {},
   "outputs": [
    {
     "data": {
      "text/plain": [
       "array([68, 75, 79, 79, 87, 88, 90, 91, 96, 99])"
      ]
     },
     "execution_count": 17,
     "metadata": {},
     "output_type": "execute_result"
    }
   ],
   "source": [
    "np.sort(student_grades)"
   ]
  },
  {
   "cell_type": "code",
   "execution_count": null,
   "metadata": {},
   "outputs": [],
   "source": [
    "len(student_grades)"
   ]
  },
  {
   "cell_type": "code",
   "execution_count": 25,
   "metadata": {},
   "outputs": [
    {
     "data": {
      "text/plain": [
       "87.5"
      ]
     },
     "execution_count": 25,
     "metadata": {},
     "output_type": "execute_result"
    }
   ],
   "source": [
    "stats.median(student_grades)"
   ]
  },
  {
   "cell_type": "code",
   "execution_count": 5,
   "metadata": {},
   "outputs": [
    {
     "data": {
      "text/plain": [
       "87"
      ]
     },
     "execution_count": 5,
     "metadata": {},
     "output_type": "execute_result"
    }
   ],
   "source": [
    "student_grades2 = [79, 87, 99, 96, 88, 79, 75, 68, 90, 91, 67]\n",
    "import numpy as np\n",
    "import statistics as stats\n",
    "np.sort(student_grades2)\n",
    "\n",
    "stats.median(student_grades2)"
   ]
  },
  {
   "cell_type": "code",
   "execution_count": null,
   "metadata": {},
   "outputs": [],
   "source": []
  },
  {
   "cell_type": "markdown",
   "metadata": {},
   "source": [
    "### Mode"
   ]
  },
  {
   "cell_type": "raw",
   "metadata": {},
   "source": [
    "The mode is the value that appears most often in the data. This measure is used most for categorical data, where we would be most interested in that category that is most used as a way of describing what is the \"average\" value for that category. We have added some description on what is categorical data in additional resources but we will talk about them in greater detail in the bootcamp when we will develop machine learning models "
   ]
  },
  {
   "cell_type": "code",
   "execution_count": null,
   "metadata": {},
   "outputs": [],
   "source": []
  },
  {
   "cell_type": "code",
   "execution_count": null,
   "metadata": {},
   "outputs": [],
   "source": [
    "student_grades = [79, 87, 99, 96, 88, 79, 75, 68, 90, 91] "
   ]
  },
  {
   "cell_type": "code",
   "execution_count": 26,
   "metadata": {},
   "outputs": [
    {
     "data": {
      "text/plain": [
       "79"
      ]
     },
     "execution_count": 26,
     "metadata": {},
     "output_type": "execute_result"
    }
   ],
   "source": [
    "stats.mode(student_grades)"
   ]
  },
  {
   "cell_type": "code",
   "execution_count": null,
   "metadata": {},
   "outputs": [],
   "source": []
  },
  {
   "cell_type": "raw",
   "metadata": {},
   "source": [
    "Sometimes in our data, there might be multiple modes as well. An example of bi-modal data stored in a list is shown \n",
    "below. There values 87 and 99 are represented twice each. Hence there are two modes in the data. Statistics module in python is\n",
    "unable to detect multiple modes in the data. It results in an error as shown below: "
   ]
  },
  {
   "cell_type": "code",
   "execution_count": 32,
   "metadata": {},
   "outputs": [],
   "source": [
    "student_grades = [87, 87, 99, 99, 96, 88, 79, 75, 68, 90, 91] "
   ]
  },
  {
   "cell_type": "code",
   "execution_count": 33,
   "metadata": {},
   "outputs": [
    {
     "ename": "StatisticsError",
     "evalue": "no unique mode; found 2 equally common values",
     "output_type": "error",
     "traceback": [
      "\u001b[0;31m---------------------------------------------------------------------------\u001b[0m",
      "\u001b[0;31mStatisticsError\u001b[0m                           Traceback (most recent call last)",
      "\u001b[0;32m<ipython-input-33-589d5bac3536>\u001b[0m in \u001b[0;36m<module>\u001b[0;34m\u001b[0m\n\u001b[0;32m----> 1\u001b[0;31m \u001b[0mstats\u001b[0m\u001b[0;34m.\u001b[0m\u001b[0mmode\u001b[0m\u001b[0;34m(\u001b[0m\u001b[0mstudent_grades\u001b[0m\u001b[0;34m)\u001b[0m\u001b[0;34m\u001b[0m\u001b[0;34m\u001b[0m\u001b[0m\n\u001b[0m",
      "\u001b[0;32m/usr/local/anaconda3/lib/python3.7/statistics.py\u001b[0m in \u001b[0;36mmode\u001b[0;34m(data)\u001b[0m\n\u001b[1;32m    504\u001b[0m     \u001b[0;32melif\u001b[0m \u001b[0mtable\u001b[0m\u001b[0;34m:\u001b[0m\u001b[0;34m\u001b[0m\u001b[0;34m\u001b[0m\u001b[0m\n\u001b[1;32m    505\u001b[0m         raise StatisticsError(\n\u001b[0;32m--> 506\u001b[0;31m                 \u001b[0;34m'no unique mode; found %d equally common values'\u001b[0m \u001b[0;34m%\u001b[0m \u001b[0mlen\u001b[0m\u001b[0;34m(\u001b[0m\u001b[0mtable\u001b[0m\u001b[0;34m)\u001b[0m\u001b[0;34m\u001b[0m\u001b[0;34m\u001b[0m\u001b[0m\n\u001b[0m\u001b[1;32m    507\u001b[0m                 )\n\u001b[1;32m    508\u001b[0m     \u001b[0;32melse\u001b[0m\u001b[0;34m:\u001b[0m\u001b[0;34m\u001b[0m\u001b[0;34m\u001b[0m\u001b[0m\n",
      "\u001b[0;31mStatisticsError\u001b[0m: no unique mode; found 2 equally common values"
     ]
    }
   ],
   "source": [
    "stats.mode(student_grades)"
   ]
  },
  {
   "cell_type": "code",
   "execution_count": null,
   "metadata": {},
   "outputs": [],
   "source": []
  },
  {
   "cell_type": "code",
   "execution_count": 47,
   "metadata": {},
   "outputs": [],
   "source": [
    "# Now we will try to combine some things we learn in unit 1 to solve this problem"
   ]
  },
  {
   "cell_type": "raw",
   "metadata": {},
   "source": [
    "PseudoCode :\n",
    "\n",
    "Define an empty dictionary. This dictionary will store a key-value pair as \"Item in the list\" and \"Its frequency in the List\"\n",
    "\n",
    "Iterate on the list:\n",
    "    Find the frequency of each element using the count function \n",
    "    (Here is a simple demonstration : https://www.tutorialspoint.com/python3/list_count.htm)\n",
    "    \n",
    "    Add a new key-value pair with the element in the list as the key and frequency count as the value \n",
    "\n",
    "Find the maximum of the values in the dictionary and store it in a new variable max_value.\n",
    "\n",
    "Now iterate on the items in the dctionary\n",
    "    \n",
    "    if the value in the key-value pair matches the variable max_variable:\n",
    "        print the key for that key-value pair\n",
    "       "
   ]
  },
  {
   "cell_type": "code",
   "execution_count": null,
   "metadata": {},
   "outputs": [],
   "source": []
  },
  {
   "cell_type": "code",
   "execution_count": 48,
   "metadata": {},
   "outputs": [],
   "source": [
    "# Actual code is below:"
   ]
  },
  {
   "cell_type": "code",
   "execution_count": 49,
   "metadata": {},
   "outputs": [
    {
     "name": "stdout",
     "output_type": "stream",
     "text": [
      "{87: 2, 99: 2, 96: 1, 88: 1, 79: 1, 75: 1, 68: 1, 90: 1, 91: 1}\n"
     ]
    }
   ],
   "source": [
    "counts_dict = {} # Defining an empty dictionary to store the count of each \n",
    "for item in student_grades:\n",
    "    count_of_item = student_grades.count(item) # Count function to check the frequency of that item in the list \n",
    "    counts_dict[item] = count_of_item  # Creating a new key-value pair in each iteration\n",
    "\n",
    "print(counts_dict)"
   ]
  },
  {
   "cell_type": "code",
   "execution_count": 45,
   "metadata": {},
   "outputs": [
    {
     "name": "stdout",
     "output_type": "stream",
     "text": [
      "Values of counts in the dictionary are:  dict_values([2, 2, 1, 1, 1, 1, 1, 1, 1])\n",
      "Max value in the counts is: 2\n"
     ]
    }
   ],
   "source": [
    "# The values in the dictionary are:\n",
    "values = counts_dict.values()\n",
    "print(\"Values of counts in the dictionary are: \", values)\n",
    "\n",
    "max_value = max(values)  # To find the max of the frequency counts \n",
    "print(\"Max value in the counts is:\", max_value)"
   ]
  },
  {
   "cell_type": "code",
   "execution_count": null,
   "metadata": {},
   "outputs": [],
   "source": []
  },
  {
   "cell_type": "code",
   "execution_count": 42,
   "metadata": {},
   "outputs": [
    {
     "name": "stdout",
     "output_type": "stream",
     "text": [
      "For key:  key1 - the value is:  100\n",
      "For key:  key2 - the value is:  200\n",
      "For key:  key3 - the value is:  300\n"
     ]
    }
   ],
   "source": [
    "# In a previous lesson on iterations, we saw how we can iterate on key value pair. This is the example that we\n",
    "# looked at:\n",
    "x = {'key1': 100 , 'key2': 200 , 'key3':300}\n",
    "for key, value in x.items():\n",
    "    print(\"For key: \", key, \"- the value is: \", value)"
   ]
  },
  {
   "cell_type": "code",
   "execution_count": null,
   "metadata": {},
   "outputs": [],
   "source": [
    "# we will use similar code to find the corresponding key for the value, if it equals the variable `max_value`"
   ]
  },
  {
   "cell_type": "code",
   "execution_count": 46,
   "metadata": {},
   "outputs": [
    {
     "name": "stdout",
     "output_type": "stream",
     "text": [
      "Mode:  87\n",
      "Mode:  99\n"
     ]
    }
   ],
   "source": [
    "for key, value in counts_dict.items():\n",
    "    if value == max_value:\n",
    "        print(\"Mode: \", key)"
   ]
  },
  {
   "cell_type": "code",
   "execution_count": null,
   "metadata": {},
   "outputs": [],
   "source": []
  },
  {
   "cell_type": "code",
   "execution_count": null,
   "metadata": {},
   "outputs": [],
   "source": []
  },
  {
   "cell_type": "markdown",
   "metadata": {},
   "source": [
    "### Exercise  "
   ]
  },
  {
   "cell_type": "raw",
   "metadata": {},
   "source": [
    "1. We saw that a dataset can have more than one mode. But can a dataset have more than one median? True or False\n",
    "\n",
    "2. Given the data in the list:\n",
    " data = [4,  7,  5,  9,  8,  6,  7,  7,  8,  5,  6,  9,  8, 5,  8,  7,  4,  7, 3,  6,  8,  9,  7,  6,  9]\n",
    " \n",
    " What is the range, mean, median, and mode of the dataset. \n",
    " Create a new dictionary called `data_dictionary` and store the above answers as key value pairs in the dictionary. Print the dictionary. \n",
    " \n",
    " \n",
    "3. To find which statistic do you have to arrange the data in an ascending order?\n",
    "\n",
    "4. How do you find the median when there are even number of data points?\n",
    "\n",
    "5. What is the range for the data set\n",
    "    points = [-4,  17,  25,  19,  6,  11,  7]\n",
    "\n",
    "6. What are outliers in a dataset? Which of the three - Mean, Median, and Mode - is more suseptible to change with presence of outliers in the data?\n",
    "\n"
   ]
  },
  {
   "cell_type": "code",
   "execution_count": 4,
   "metadata": {},
   "outputs": [
    {
     "name": "stdout",
     "output_type": "stream",
     "text": [
      "{'Mean': 6.72, 'Median': 7, 'Mode': 7}\n"
     ]
    }
   ],
   "source": [
    "#1. A dataset cannot have more than one median, as by definition, it is the unique value found in the middle (same number of elements on each side) of a given ascending ordered list.\n",
    "\n",
    "#2.\n",
    "data = [4,  7,  5,  9,  8,  6,  7,  7,  8,  5,  6,  9,  8, 5,  8,  7,  4,  7, 3,  6,  8,  9,  7,  6,  9]\n",
    "\n",
    "#We calculate the minimum and maximum values to calculate the range\n",
    "min_value=min(data)\n",
    "max_value=max(data)\n",
    "#List to store the range of data\n",
    "range_data=min_value,max_value\n",
    "\n",
    "#Calculating the mean\n",
    "import statistics as stats\n",
    "#Mean value\n",
    "mean_data=stats.mean(data)\n",
    "\n",
    "#Calculating the median\n",
    "import numpy as np\n",
    "np.sort (data)\n",
    "median_data=stats.median(data)\n",
    "\n",
    "#Calculating the mode\n",
    "mode_data=stats.mode(data)\n",
    "\n",
    "data_dictionary={}\n",
    "data_dictionary['Mean']=stats.mean(data)\n",
    "data_dictionary['Median']=stats.median(data)\n",
    "data_dictionary['Mode']=stats.mode(data)\n",
    "\n",
    "#3. We need to arrange the data in ascending order to find the median.\n",
    "#4. We need to first arrange the data in ascending order and then find the arithematic mean of (N/2)th term and (N/2 + 1)th term, being 'N' the number of elements in the list.\n",
    "#5. Finding the range\n",
    "points = [-4,  17,  25,  19,  6,  11,  7]\n",
    "min_point=min(points)\n",
    "max_point=max(points)\n",
    "range_points=min_point,max_point\n",
    "\n",
    "#6. Outliers are the minimum and maximum values in a given list.\n",
    "#The mean is more suseptible to change with presence of outliers in the data, as it's calculated as if every value had the same importance."
   ]
  }
 ],
 "metadata": {
  "kernelspec": {
   "display_name": "Python 3",
   "language": "python",
   "name": "python3"
  },
  "language_info": {
   "codemirror_mode": {
    "name": "ipython",
    "version": 3
   },
   "file_extension": ".py",
   "mimetype": "text/x-python",
   "name": "python",
   "nbconvert_exporter": "python",
   "pygments_lexer": "ipython3",
   "version": "3.8.8"
  }
 },
 "nbformat": 4,
 "nbformat_minor": 2
}
